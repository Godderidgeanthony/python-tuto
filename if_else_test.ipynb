{
 "cells": [
  {
   "cell_type": "code",
   "execution_count": 3,
   "metadata": {},
   "outputs": [
    {
     "name": "stdout",
     "output_type": "stream",
     "text": [
      "Run away! Run away!\n"
     ]
    }
   ],
   "source": [
    "x = 'killer rabbit'\n",
    "if x == 'roger':\n",
    "    print(\"shave and a haircut\")\n",
    "elif x == 'bugs':\n",
    "    print(\"what's up doc?\")\n",
    "else:\n",
    "    print('Run away! Run away!')"
   ]
  },
  {
   "cell_type": "code",
   "execution_count": 4,
   "metadata": {},
   "outputs": [
    {
     "name": "stdout",
     "output_type": "stream",
     "text": [
      "1.99\n"
     ]
    }
   ],
   "source": [
    "choice = 'ham'\n",
    "print({'spam': 1.25, # A dictionary-based 'switch'\n",
    "        'ham': 1.99, # Use has_key or get for default\n",
    "        'eggs': 0.99,\n",
    "        'bacon': 1.10}[choice])"
   ]
  },
  {
   "cell_type": "code",
   "execution_count": 1,
   "metadata": {},
   "outputs": [
    {
     "name": "stdout",
     "output_type": "stream",
     "text": [
      "1.25\n"
     ]
    }
   ],
   "source": [
    "branch = {'spam': 1.25,'ham': 1.99, 'eggs': 0.99}\n",
    "print(branch.get('spam','bad choice'))"
   ]
  },
  {
   "cell_type": "code",
   "execution_count": 4,
   "metadata": {},
   "outputs": [
    {
     "name": "stdout",
     "output_type": "stream",
     "text": [
      "bad choice\n"
     ]
    }
   ],
   "source": [
    "print(branch.get('tomatoes','bad choice'))"
   ]
  },
  {
   "cell_type": "code",
   "execution_count": 2,
   "metadata": {},
   "outputs": [
    {
     "name": "stdout",
     "output_type": "stream",
     "text": [
      "Bad choice\n"
     ]
    }
   ],
   "source": [
    "choice = 'bacon'\n",
    "if choice in branch:\n",
    "    print(branch[choice])\n",
    "else:\n",
    "    print('Bad choice')"
   ]
  },
  {
   "cell_type": "code",
   "execution_count": 6,
   "metadata": {},
   "outputs": [
    {
     "name": "stdout",
     "output_type": "stream",
     "text": [
      "Bad choice\n"
     ]
    }
   ],
   "source": [
    "try:\n",
    "    print(branch[choice])\n",
    "except KeyError:\n",
    "    print('Bad choice')\n"
   ]
  },
  {
   "cell_type": "code",
   "execution_count": null,
   "metadata": {},
   "outputs": [],
   "source": []
  }
 ],
 "metadata": {
  "kernelspec": {
   "display_name": "Python 3",
   "language": "python",
   "name": "python3"
  },
  "language_info": {
   "codemirror_mode": {
    "name": "ipython",
    "version": 3
   },
   "file_extension": ".py",
   "mimetype": "text/x-python",
   "name": "python",
   "nbconvert_exporter": "python",
   "pygments_lexer": "ipython3",
   "version": "3.6.5"
  }
 },
 "nbformat": 4,
 "nbformat_minor": 2
}