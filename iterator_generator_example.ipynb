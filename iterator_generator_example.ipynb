{
 "cells": [
  {
   "cell_type": "code",
   "execution_count": 2,
   "metadata": {},
   "outputs": [
    {
     "name": "stdout",
     "output_type": "stream",
     "text": [
      "1\n",
      "2\n",
      "3\n"
     ]
    }
   ],
   "source": [
    "# Reading its itmes one by one is called iteration\n",
    "mylist = [1, 2, 3]\n",
    "for i in mylist:\n",
    "    print(i)"
   ]
  },
  {
   "cell_type": "code",
   "execution_count": 1,
   "metadata": {},
   "outputs": [
    {
     "name": "stdout",
     "output_type": "stream",
     "text": [
      "0\n",
      "1\n",
      "4\n"
     ]
    }
   ],
   "source": [
    "# Create a list using a list comprehension\n",
    "# mylist is iterable\n",
    "mylist = [x*x for x in range(3)]\n",
    "for i in mylist:\n",
    "    print(i)"
   ]
  },
  {
   "cell_type": "code",
   "execution_count": 5,
   "metadata": {},
   "outputs": [
    {
     "name": "stdout",
     "output_type": "stream",
     "text": [
      "0\n",
      "1\n",
      "4\n"
     ]
    }
   ],
   "source": [
    "# Generators are iterators,\n",
    "# you can only iterate over once.\n",
    "mygenerator = (x*x for x in range(3))\n",
    "for i in mygenerator:\n",
    "   print(i)"
   ]
  },
  {
   "cell_type": "code",
   "execution_count": 7,
   "metadata": {
    "pycharm": {
     "name": "#%%\n"
    }
   },
   "outputs": [],
   "source": [
    "def create_generator():\n",
    "    mylist = range(3)\n",
    "    for i in mylist:\n",
    "        yield i*i  # return a generator"
   ]
  },
  {
   "cell_type": "code",
   "execution_count": 9,
   "outputs": [
    {
     "name": "stdout",
     "output_type": "stream",
     "text": [
      "<generator object create_generator at 0x0000024454956F90>\n",
      "0\n",
      "1\n",
      "4\n"
     ]
    }
   ],
   "source": [
    "mygenerator = create_generator()\n",
    "print(mygenerator)\n",
    "for i in mygenerator:\n",
    "    print(i)\n",
    "\"\"\"\"\n",
    "La première fois que for appelle\n",
    "l'objet générateur créé à partir de votre fonction, il exécutera le code de\n",
    "votre fonction depuis le début jusqu'à ce qu'il atteigne le yield,\n",
    "puis il retournera la première valeur de la boucle.\n",
    "Ensuite, chaque appel suivant exécutera une autre itération de\n",
    "la boucle que vous avez écrite dans la fonction et\n",
    "retournera la valeur suivante. Cela continuera\n",
    "jusqu'à ce que le générateur soit considéré comme vide,\n",
    "ce qui se produit lorsque la fonction\n",
    "s'exécute sans toucher le yield.\n",
    "Cela peut être dû au fait que la boucle est terminée\n",
    "\"\"\""
   ],
   "metadata": {
    "collapsed": false,
    "pycharm": {
     "name": "#%%\n"
    }
   }
  }
 ],
 "metadata": {
  "kernelspec": {
   "display_name": "Python 3",
   "language": "python",
   "name": "python3"
  },
  "language_info": {
   "codemirror_mode": {
    "name": "ipython",
    "version": 3
   },
   "file_extension": ".py",
   "mimetype": "text/x-python",
   "name": "python",
   "nbconvert_exporter": "python",
   "pygments_lexer": "ipython3",
   "version": "3.6.5"
  }
 },
 "nbformat": 4,
 "nbformat_minor": 2
}