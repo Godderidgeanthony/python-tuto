{
 "cells": [
  {
   "cell_type": "code",
   "execution_count": 1,
   "metadata": {
    "collapsed": true
   },
   "outputs": [],
   "source": [
    "class Employee:\n",
    "\n",
    "    emp_count = 0\n",
    "\n",
    "    def __init__(self,name,salary):\n",
    "        self.name = name\n",
    "        self.salary = salary\n",
    "        Employee.emp_count += 1\n",
    "\n",
    "    def display_employee(self):\n",
    "        print(\"name {} , salary: {}\".format(self.name, self.salary))\n",
    "\n",
    "    def give_raise(self, percent):\n",
    "        self.salary += self.salary * percent\n",
    "\n",
    "    def display_count(self):\n",
    "        print(\"count {}\".format(Employee.emp_count))"
   ]
  },
  {
   "cell_type": "code",
   "execution_count": 2,
   "outputs": [
    {
     "name": "stdout",
     "output_type": "stream",
     "text": [
      "name Sam , salary: 1000\n"
     ]
    }
   ],
   "source": [
    "emp = Employee(\"Sam\",1000)\n",
    "emp.display_employee()\n",
    "\n"
   ],
   "metadata": {
    "collapsed": false,
    "pycharm": {
     "name": "#%%\n"
    }
   }
  },
  {
   "cell_type": "code",
   "execution_count": 4,
   "outputs": [
    {
     "name": "stdout",
     "output_type": "stream",
     "text": [
      "name Sam , salary: 1210.0\n"
     ]
    }
   ],
   "source": [
    "emp.give_raise(0.1)\n",
    "emp.display_employee()"
   ],
   "metadata": {
    "collapsed": false,
    "pycharm": {
     "name": "#%%\n"
    }
   }
  },
  {
   "cell_type": "code",
   "execution_count": 5,
   "outputs": [
    {
     "name": "stdout",
     "output_type": "stream",
     "text": [
      "count 2\n"
     ]
    }
   ],
   "source": [
    "emp2 = Employee(\"Sarah\",2000)\n",
    "emp2.display_count()\n"
   ],
   "metadata": {
    "collapsed": false,
    "pycharm": {
     "name": "#%%\n"
    }
   }
  },
  {
   "cell_type": "code",
   "execution_count": 6,
   "outputs": [
    {
     "name": "stdout",
     "output_type": "stream",
     "text": [
      "name Jerry , salary: 1210.0\n"
     ]
    }
   ],
   "source": [
    "emp.name = \"Jerry\"\n",
    "emp.display_employee()\n"
   ],
   "metadata": {
    "collapsed": false,
    "pycharm": {
     "name": "#%%\n"
    }
   }
  }
 ],
 "metadata": {
  "kernelspec": {
   "display_name": "Python 3",
   "language": "python",
   "name": "python3"
  },
  "language_info": {
   "codemirror_mode": {
    "name": "ipython",
    "version": 2
   },
   "file_extension": ".py",
   "mimetype": "text/x-python",
   "name": "python",
   "nbconvert_exporter": "python",
   "pygments_lexer": "ipython2",
   "version": "2.7.6"
  }
 },
 "nbformat": 4,
 "nbformat_minor": 0
}